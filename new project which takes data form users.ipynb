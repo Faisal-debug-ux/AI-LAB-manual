{
 "cells": [
  {
   "cell_type": "code",
   "execution_count": null,
   "id": "091019e8-bde0-450a-b218-f24c15081d0a",
   "metadata": {},
   "outputs": [
    {
     "name": "stdout",
     "output_type": "stream",
     "text": [
      "\n",
      "📋 Health & Fitness Tracker Menu\n",
      "1. Add Task\n",
      "2. Show Daily Tasks\n",
      "3. Show Weekly Tasks\n",
      "4. Mark Task as Completed\n",
      "5. Show Daily Summary\n",
      "6. Show Weekly Summary\n",
      "7. Show Monthly Summary\n",
      "8. Show All Tasks\n",
      "9. Exit\n"
     ]
    },
    {
     "name": "stdin",
     "output_type": "stream",
     "text": [
      "Enter your choice (1–9):  1\n",
      "Enter task description:  2\n",
      "Is this a 'daily' or 'weekly' task?  daily\n"
     ]
    },
    {
     "name": "stdout",
     "output_type": "stream",
     "text": [
      "Task added successfully.\n",
      "\n",
      "📋 Health & Fitness Tracker Menu\n",
      "1. Add Task\n",
      "2. Show Daily Tasks\n",
      "3. Show Weekly Tasks\n",
      "4. Mark Task as Completed\n",
      "5. Show Daily Summary\n",
      "6. Show Weekly Summary\n",
      "7. Show Monthly Summary\n",
      "8. Show All Tasks\n",
      "9. Exit\n"
     ]
    },
    {
     "name": "stdin",
     "output_type": "stream",
     "text": [
      "Enter your choice (1–9):  8\n"
     ]
    },
    {
     "name": "stdout",
     "output_type": "stream",
     "text": [
      "\n",
      "All Tasks:\n",
      "0. Drink 2L water [✓] (daily, 2025-06-02)\n",
      "1. Run 5km [✓] (weekly, 2025-06-02)\n",
      "2. Drink 2L water [✗] (daily, 2025-06-02)\n",
      "3. Run 5km [✗] (weekly, 2025-06-02)\n",
      "4. 2 [✗] (daily, 2025-06-02)\n",
      "\n",
      "📋 Health & Fitness Tracker Menu\n",
      "1. Add Task\n",
      "2. Show Daily Tasks\n",
      "3. Show Weekly Tasks\n",
      "4. Mark Task as Completed\n",
      "5. Show Daily Summary\n",
      "6. Show Weekly Summary\n",
      "7. Show Monthly Summary\n",
      "8. Show All Tasks\n",
      "9. Exit\n"
     ]
    },
    {
     "name": "stdin",
     "output_type": "stream",
     "text": [
      "Enter your choice (1–9):  1\n",
      "Enter task description:  daily task\n",
      "Is this a 'daily' or 'weekly' task?  daily\n"
     ]
    },
    {
     "name": "stdout",
     "output_type": "stream",
     "text": [
      "Task added successfully.\n",
      "\n",
      "📋 Health & Fitness Tracker Menu\n",
      "1. Add Task\n",
      "2. Show Daily Tasks\n",
      "3. Show Weekly Tasks\n",
      "4. Mark Task as Completed\n",
      "5. Show Daily Summary\n",
      "6. Show Weekly Summary\n",
      "7. Show Monthly Summary\n",
      "8. Show All Tasks\n",
      "9. Exit\n"
     ]
    },
    {
     "name": "stdin",
     "output_type": "stream",
     "text": [
      "Enter your choice (1–9):  8\n"
     ]
    },
    {
     "name": "stdout",
     "output_type": "stream",
     "text": [
      "\n",
      "All Tasks:\n",
      "0. Drink 2L water [✓] (daily, 2025-06-02)\n",
      "1. Run 5km [✓] (weekly, 2025-06-02)\n",
      "2. Drink 2L water [✗] (daily, 2025-06-02)\n",
      "3. Run 5km [✗] (weekly, 2025-06-02)\n",
      "4. 2 [✗] (daily, 2025-06-02)\n",
      "5. daily task [✗] (daily, 2025-06-02)\n",
      "\n",
      "📋 Health & Fitness Tracker Menu\n",
      "1. Add Task\n",
      "2. Show Daily Tasks\n",
      "3. Show Weekly Tasks\n",
      "4. Mark Task as Completed\n",
      "5. Show Daily Summary\n",
      "6. Show Weekly Summary\n",
      "7. Show Monthly Summary\n",
      "8. Show All Tasks\n",
      "9. Exit\n"
     ]
    },
    {
     "name": "stdin",
     "output_type": "stream",
     "text": [
      "Enter your choice (1–9):  2\n"
     ]
    },
    {
     "name": "stdout",
     "output_type": "stream",
     "text": [
      "\n",
      "Daily Tasks:\n",
      "\n",
      "📋 Health & Fitness Tracker Menu\n",
      "1. Add Task\n",
      "2. Show Daily Tasks\n",
      "3. Show Weekly Tasks\n",
      "4. Mark Task as Completed\n",
      "5. Show Daily Summary\n",
      "6. Show Weekly Summary\n",
      "7. Show Monthly Summary\n",
      "8. Show All Tasks\n",
      "9. Exit\n"
     ]
    },
    {
     "name": "stdin",
     "output_type": "stream",
     "text": [
      "Enter your choice (1–9):  4\n"
     ]
    },
    {
     "name": "stdout",
     "output_type": "stream",
     "text": [
      "\n",
      "All Tasks:\n"
     ]
    },
    {
     "name": "stdin",
     "output_type": "stream",
     "text": [
      "Enter the task number you completed:  2\n"
     ]
    },
    {
     "name": "stdout",
     "output_type": "stream",
     "text": [
      "Invalid task number.\n",
      "\n",
      "📋 Health & Fitness Tracker Menu\n",
      "1. Add Task\n",
      "2. Show Daily Tasks\n",
      "3. Show Weekly Tasks\n",
      "4. Mark Task as Completed\n",
      "5. Show Daily Summary\n",
      "6. Show Weekly Summary\n",
      "7. Show Monthly Summary\n",
      "8. Show All Tasks\n",
      "9. Exit\n"
     ]
    },
    {
     "name": "stdin",
     "output_type": "stream",
     "text": [
      "Enter your choice (1–9):  8\n"
     ]
    },
    {
     "name": "stdout",
     "output_type": "stream",
     "text": [
      "\n",
      "All Tasks:\n",
      "\n",
      "📋 Health & Fitness Tracker Menu\n",
      "1. Add Task\n",
      "2. Show Daily Tasks\n",
      "3. Show Weekly Tasks\n",
      "4. Mark Task as Completed\n",
      "5. Show Daily Summary\n",
      "6. Show Weekly Summary\n",
      "7. Show Monthly Summary\n",
      "8. Show All Tasks\n",
      "9. Exit\n"
     ]
    },
    {
     "name": "stdin",
     "output_type": "stream",
     "text": [
      "Enter your choice (1–9):  2\n"
     ]
    },
    {
     "name": "stdout",
     "output_type": "stream",
     "text": [
      "\n",
      "Daily Tasks:\n",
      "\n",
      "📋 Health & Fitness Tracker Menu\n",
      "1. Add Task\n",
      "2. Show Daily Tasks\n",
      "3. Show Weekly Tasks\n",
      "4. Mark Task as Completed\n",
      "5. Show Daily Summary\n",
      "6. Show Weekly Summary\n",
      "7. Show Monthly Summary\n",
      "8. Show All Tasks\n",
      "9. Exit\n"
     ]
    },
    {
     "name": "stdin",
     "output_type": "stream",
     "text": [
      "Enter your choice (1–9):  7\n"
     ]
    },
    {
     "name": "stdout",
     "output_type": "stream",
     "text": [
      "\n",
      "Monthly Summary:\n",
      "Total Tasks: 0\n",
      "Completed: 0\n",
      "\n",
      "📋 Health & Fitness Tracker Menu\n",
      "1. Add Task\n",
      "2. Show Daily Tasks\n",
      "3. Show Weekly Tasks\n",
      "4. Mark Task as Completed\n",
      "5. Show Daily Summary\n",
      "6. Show Weekly Summary\n",
      "7. Show Monthly Summary\n",
      "8. Show All Tasks\n",
      "9. Exit\n"
     ]
    },
    {
     "name": "stdin",
     "output_type": "stream",
     "text": [
      "Enter your choice (1–9):  1\n",
      "Enter task description:  5 km walk\n",
      "Is this a 'daily' or 'weekly' task?  daily\n"
     ]
    },
    {
     "name": "stdout",
     "output_type": "stream",
     "text": [
      "Task added successfully.\n",
      "\n",
      "📋 Health & Fitness Tracker Menu\n",
      "1. Add Task\n",
      "2. Show Daily Tasks\n",
      "3. Show Weekly Tasks\n",
      "4. Mark Task as Completed\n",
      "5. Show Daily Summary\n",
      "6. Show Weekly Summary\n",
      "7. Show Monthly Summary\n",
      "8. Show All Tasks\n",
      "9. Exit\n"
     ]
    },
    {
     "name": "stdin",
     "output_type": "stream",
     "text": [
      "Enter your choice (1–9):  2\n"
     ]
    },
    {
     "name": "stdout",
     "output_type": "stream",
     "text": [
      "\n",
      "Daily Tasks:\n",
      "0. 5 km walk [✗]\n",
      "\n",
      "📋 Health & Fitness Tracker Menu\n",
      "1. Add Task\n",
      "2. Show Daily Tasks\n",
      "3. Show Weekly Tasks\n",
      "4. Mark Task as Completed\n",
      "5. Show Daily Summary\n",
      "6. Show Weekly Summary\n",
      "7. Show Monthly Summary\n",
      "8. Show All Tasks\n",
      "9. Exit\n"
     ]
    },
    {
     "name": "stdin",
     "output_type": "stream",
     "text": [
      "Enter your choice (1–9):  4\n"
     ]
    },
    {
     "name": "stdout",
     "output_type": "stream",
     "text": [
      "\n",
      "All Tasks:\n",
      "0. 5 km walk [✗] (daily, 2025-06-02)\n"
     ]
    },
    {
     "name": "stdin",
     "output_type": "stream",
     "text": [
      "Enter the task number you completed:  0\n"
     ]
    },
    {
     "name": "stdout",
     "output_type": "stream",
     "text": [
      "Task marked as completed.\n",
      "\n",
      "📋 Health & Fitness Tracker Menu\n",
      "1. Add Task\n",
      "2. Show Daily Tasks\n",
      "3. Show Weekly Tasks\n",
      "4. Mark Task as Completed\n",
      "5. Show Daily Summary\n",
      "6. Show Weekly Summary\n",
      "7. Show Monthly Summary\n",
      "8. Show All Tasks\n",
      "9. Exit\n"
     ]
    },
    {
     "name": "stdin",
     "output_type": "stream",
     "text": [
      "Enter your choice (1–9):  2\n"
     ]
    },
    {
     "name": "stdout",
     "output_type": "stream",
     "text": [
      "\n",
      "Daily Tasks:\n",
      "0. 5 km walk [✓]\n",
      "\n",
      "📋 Health & Fitness Tracker Menu\n",
      "1. Add Task\n",
      "2. Show Daily Tasks\n",
      "3. Show Weekly Tasks\n",
      "4. Mark Task as Completed\n",
      "5. Show Daily Summary\n",
      "6. Show Weekly Summary\n",
      "7. Show Monthly Summary\n",
      "8. Show All Tasks\n",
      "9. Exit\n"
     ]
    }
   ],
   "source": [
    "import json\n",
    "import os\n",
    "from datetime import datetime, timedelta\n",
    "\n",
    "DATA_FILE = \"fitness_data.json\"\n",
    "\n",
    "def load_data():\n",
    "    if os.path.exists(DATA_FILE):\n",
    "        with open(DATA_FILE, \"r\") as file:\n",
    "            return json.load(file)\n",
    "    return {\"tasks\": []}\n",
    "\n",
    "def save_data(data):\n",
    "    with open(DATA_FILE, \"w\") as file:\n",
    "        json.dump(data, file, indent=4)\n",
    "\n",
    "def add_task():\n",
    "    description = input(\"Enter task description: \")\n",
    "    task_type = input(\"Is this a 'daily' or 'weekly' task? \").lower()\n",
    "    if task_type not in [\"daily\", \"weekly\"]:\n",
    "        print(\"Invalid task type. Use 'daily' or 'weekly'.\")\n",
    "        return\n",
    "    task = {\n",
    "        \"description\": description,\n",
    "        \"type\": task_type,\n",
    "        \"date\": str(datetime.today().date()),\n",
    "        \"completed\": False\n",
    "    }\n",
    "    data = load_data()\n",
    "    data[\"tasks\"].append(task)\n",
    "    save_data(data)\n",
    "    print(\"Task added successfully.\")\n",
    "\n",
    "def show_tasks(task_type):\n",
    "    data = load_data()\n",
    "    print(f\"\\n{task_type.capitalize()} Tasks:\")\n",
    "    for i, task in enumerate(data[\"tasks\"]):\n",
    "        if task[\"type\"] == task_type:\n",
    "            status = \"✓\" if task[\"completed\"] else \"✗\"\n",
    "            print(f\"{i}. {task['description']} [{status}]\")\n",
    "\n",
    "def complete_task():\n",
    "    data = load_data()\n",
    "    show_all_tasks()\n",
    "    try:\n",
    "        task_id = int(input(\"Enter the task number you completed: \"))\n",
    "        if 0 <= task_id < len(data[\"tasks\"]):\n",
    "            data[\"tasks\"][task_id][\"completed\"] = True\n",
    "            save_data(data)\n",
    "            print(\"Task marked as completed.\")\n",
    "        else:\n",
    "            print(\"Invalid task number.\")\n",
    "    except ValueError:\n",
    "        print(\"Please enter a valid number.\")\n",
    "\n",
    "def show_all_tasks():\n",
    "    data = load_data()\n",
    "    print(\"\\nAll Tasks:\")\n",
    "    for i, task in enumerate(data[\"tasks\"]):\n",
    "        status = \"✓\" if task[\"completed\"] else \"✗\"\n",
    "        print(f\"{i}. {task['description']} [{status}] ({task['type']}, {task['date']})\")\n",
    "\n",
    "def show_summary(period=\"daily\"):\n",
    "    data = load_data()\n",
    "    today = datetime.today().date()\n",
    "    summary_tasks = []\n",
    "\n",
    "    for task in data[\"tasks\"]:\n",
    "        task_date = datetime.strptime(task[\"date\"], \"%Y-%m-%d\").date()\n",
    "        if period == \"daily\" and task_date == today:\n",
    "            summary_tasks.append(task)\n",
    "        elif period == \"weekly\" and (today - task_date).days <= 7:\n",
    "            summary_tasks.append(task)\n",
    "        elif period == \"monthly\" and (today - task_date).days <= 30:\n",
    "            summary_tasks.append(task)\n",
    "\n",
    "    total = len(summary_tasks)\n",
    "    completed = sum(task[\"completed\"] for task in summary_tasks)\n",
    "    print(f\"\\n{period.capitalize()} Summary:\")\n",
    "    print(f\"Total Tasks: {total}\")\n",
    "    print(f\"Completed: {completed}\")\n",
    "    if total > 0:\n",
    "        print(f\"Completion Rate: {completed / total * 100:.2f}%\")\n",
    "\n",
    "def main():\n",
    "    while True:\n",
    "        print(\"\\n📋 Health & Fitness Tracker Menu\")\n",
    "        print(\"1. Add Task\")\n",
    "        print(\"2. Show Daily Tasks\")\n",
    "        print(\"3. Show Weekly Tasks\")\n",
    "        print(\"4. Mark Task as Completed\")\n",
    "        print(\"5. Show Daily Summary\")\n",
    "        print(\"6. Show Weekly Summary\")\n",
    "        print(\"7. Show Monthly Summary\")\n",
    "        print(\"8. Show All Tasks\")\n",
    "        print(\"9. Exit\")\n",
    "\n",
    "        choice = input(\"Enter your choice (1–9): \")\n",
    "\n",
    "        if choice == \"1\":\n",
    "            add_task()\n",
    "        elif choice == \"2\":\n",
    "            show_tasks(\"daily\")\n",
    "        elif choice == \"3\":\n",
    "            show_tasks(\"weekly\")\n",
    "        elif choice == \"4\":\n",
    "            complete_task()\n",
    "        elif choice == \"5\":\n",
    "            show_summary(\"daily\")\n",
    "        elif choice == \"6\":\n",
    "            show_summary(\"weekly\")\n",
    "        elif choice == \"7\":\n",
    "            show_summary(\"monthly\")\n",
    "        elif choice == \"8\":\n",
    "            show_all_tasks()\n",
    "        elif choice == \"9\":\n",
    "            print(\"Goodbye! Stay healthy 💪\")\n",
    "            break\n",
    "        else:\n",
    "            print(\"Invalid choice. Please try again.\")\n",
    "\n",
    "if __name__ == \"__main__\":\n",
    "    main()\n"
   ]
  },
  {
   "cell_type": "code",
   "execution_count": null,
   "id": "87106a74-b5e7-4f6b-b47f-680bd950e4f9",
   "metadata": {},
   "outputs": [],
   "source": []
  }
 ],
 "metadata": {
  "kernelspec": {
   "display_name": "Python 3 (ipykernel)",
   "language": "python",
   "name": "python3"
  },
  "language_info": {
   "codemirror_mode": {
    "name": "ipython",
    "version": 3
   },
   "file_extension": ".py",
   "mimetype": "text/x-python",
   "name": "python",
   "nbconvert_exporter": "python",
   "pygments_lexer": "ipython3",
   "version": "3.13.0"
  }
 },
 "nbformat": 4,
 "nbformat_minor": 5
}
